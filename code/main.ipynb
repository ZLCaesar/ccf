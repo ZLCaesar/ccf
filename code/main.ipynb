{
 "cells": [
  {
   "cell_type": "code",
   "execution_count": 1,
   "metadata": {},
   "outputs": [],
   "source": [
    "from DataPreprocessor import ProcessData\n",
    "train_path = '../data/Train_Data.csv'\n",
    "test_path = '../data/Test_Data.csv'"
   ]
  },
  {
   "cell_type": "code",
   "execution_count": 2,
   "metadata": {},
   "outputs": [
    {
     "name": "stdout",
     "output_type": "stream",
     "text": [
      "数据预处理...\n"
     ]
    }
   ],
   "source": [
    "max_sent_len = 100\n",
    "process_data = ProcessData(train_path, test_path, max_sent_len)\n",
    "train_data, train_pos_data, train_label = process_data.get_train_data()\n",
    "test_data, test_pos_data = process_data.get_test_data()"
   ]
  },
  {
   "cell_type": "code",
   "execution_count": 3,
   "metadata": {},
   "outputs": [
    {
     "name": "stderr",
     "output_type": "stream",
     "text": [
      "/Users/zhaoliang/anaconda3/lib/python3.6/site-packages/h5py/__init__.py:36: FutureWarning: Conversion of the second argument of issubdtype from `float` to `np.floating` is deprecated. In future, it will be treated as `np.float64 == np.dtype(float).type`.\n",
      "  from ._conv import register_converters as _register_converters\n",
      "Using TensorFlow backend.\n"
     ]
    }
   ],
   "source": [
    "from ModelSet import NERModel\n",
    "from GetData import GetData"
   ]
  },
  {
   "cell_type": "code",
   "execution_count": 6,
   "metadata": {},
   "outputs": [],
   "source": [
    "import pickle\n",
    "\n",
    "obj = {}\n",
    "obj['train_data'] = train_data\n",
    "obj['train_pos_data'] = train_pos_data\n",
    "obj['train_label'] = train_label\n",
    "obj['test_data'] = test_data\n",
    "obj['test_pos_data'] = test_pos_data\n",
    "obj['char2id'] = process_data.char2id\n",
    "obj['chunk2id'] = process_data.chunk2id\n",
    "obj['id2chunk'] = process_data.id2chunk\n",
    "def save_obj(obj ):\n",
    "    with open('../data/save_data.pkl', 'wb') as f:\n",
    "        pickle.dump(obj, f, pickle.HIGHEST_PROTOCOL)\n",
    "save_obj(obj)\n",
    "def load_obj():\n",
    "    with open('../data/save_data.pkl', 'rb') as f:\n",
    "        return pickle.load(f)"
   ]
  },
  {
   "cell_type": "code",
   "execution_count": 7,
   "metadata": {},
   "outputs": [],
   "source": [
    "dic = load_obj()\n",
    "train_data, train_pos_data = dic.get('train_data'), dic.get('train_pos_data')\n",
    "train_label, test_data = dic.get('train_label'), dic.get('test_data')\n",
    "test_pos_data, char2id = dic.get('test_pos_data'), dic.get('char2id')\n",
    "chunk2id, id2chunk = dic.get('chunk2id'), dic.get('id2chunk')"
   ]
  },
  {
   "cell_type": "code",
   "execution_count": 8,
   "metadata": {},
   "outputs": [],
   "source": [
    "max_sent_len = 0\n",
    "for item in train_data:\n",
    "    if len(item) > max_sent_len:\n",
    "        max_sent_len = len(item)\n",
    "for item in test_data:\n",
    "    if len(item) > max_sent_len:\n",
    "        max_sent_len = len(item)"
   ]
  },
  {
   "cell_type": "code",
   "execution_count": 9,
   "metadata": {
    "scrolled": true
   },
   "outputs": [
    {
     "name": "stderr",
     "output_type": "stream",
     "text": [
      "WARNING: Logging before flag parsing goes to stderr.\n",
      "W0830 18:51:04.466866 4553582016 deprecation_wrapper.py:119] From /Users/zhaoliang/anaconda3/lib/python3.6/site-packages/keras/backend/tensorflow_backend.py:517: The name tf.placeholder is deprecated. Please use tf.compat.v1.placeholder instead.\n",
      "\n",
      "W0830 18:51:04.480997 4553582016 deprecation_wrapper.py:119] From /Users/zhaoliang/anaconda3/lib/python3.6/site-packages/keras/backend/tensorflow_backend.py:4138: The name tf.random_uniform is deprecated. Please use tf.random.uniform instead.\n",
      "\n",
      "W0830 18:51:04.491507 4553582016 deprecation_wrapper.py:119] From /Users/zhaoliang/anaconda3/lib/python3.6/site-packages/keras/backend/tensorflow_backend.py:74: The name tf.get_default_graph is deprecated. Please use tf.compat.v1.get_default_graph instead.\n",
      "\n",
      "W0830 18:51:05.032935 4553582016 deprecation_wrapper.py:119] From /Users/zhaoliang/anaconda3/lib/python3.6/site-packages/keras/backend/tensorflow_backend.py:133: The name tf.placeholder_with_default is deprecated. Please use tf.compat.v1.placeholder_with_default instead.\n",
      "\n",
      "W0830 18:51:05.041568 4553582016 deprecation.py:506] From /Users/zhaoliang/anaconda3/lib/python3.6/site-packages/keras/backend/tensorflow_backend.py:3445: calling dropout (from tensorflow.python.ops.nn_ops) with keep_prob is deprecated and will be removed in a future version.\n",
      "Instructions for updating:\n",
      "Please use `rate` instead of `keep_prob`. Rate should be set to `rate = 1 - keep_prob`.\n",
      "/Users/zhaoliang/gitProject/ccf/code/ModelSet.py:65: UserWarning: Update your `Conv1D` call to the Keras 2 API: `Conv1D(filters=32, kernel_size=5, padding=\"valid\")`\n",
      "  conv = Conv1D(nb_filter=32, filter_length=(2 * half_window_size + 1), border_mode='valid')(paddinglayer)\n",
      "/Users/zhaoliang/gitProject/ccf/code/ModelSet.py:74: UserWarning: Update your `Model` call to the Keras 2 API: `Model(inputs=[<tf.Tenso..., outputs=[<tf.Tenso...)`\n",
      "  model = Model(input=[input_layer], output=[crf_output])\n",
      "/Users/zhaoliang/anaconda3/lib/python3.6/site-packages/keras_contrib/layers/crf.py:346: UserWarning: CRF.loss_function is deprecated and it might be removed in the future. Please use losses.crf_loss instead.\n",
      "  warnings.warn('CRF.loss_function is deprecated '\n",
      "/Users/zhaoliang/anaconda3/lib/python3.6/site-packages/keras_contrib/layers/crf.py:353: UserWarning: CRF.accuracy is deprecated and it might be removed in the future. Please use metrics.crf_accuracy\n",
      "  warnings.warn('CRF.accuracy is deprecated and it '\n",
      "W0830 18:51:05.411062 4553582016 deprecation_wrapper.py:119] From /Users/zhaoliang/anaconda3/lib/python3.6/site-packages/keras/optimizers.py:790: The name tf.train.Optimizer is deprecated. Please use tf.compat.v1.train.Optimizer instead.\n",
      "\n",
      "W0830 18:51:05.494750 4553582016 deprecation.py:323] From /Users/zhaoliang/anaconda3/lib/python3.6/site-packages/tensorflow/python/ops/math_ops.py:2403: add_dispatch_support.<locals>.wrapper (from tensorflow.python.ops.array_ops) is deprecated and will be removed in a future version.\n",
      "Instructions for updating:\n",
      "Use tf.where in 2.0, which has the same broadcast rule as np.where\n"
     ]
    },
    {
     "name": "stdout",
     "output_type": "stream",
     "text": [
      "__________________________________________________________________________________________________\n",
      "Layer (type)                    Output Shape         Param #     Connected to                     \n",
      "==================================================================================================\n",
      "input_layer (InputLayer)        (None, 100)          0                                            \n",
      "__________________________________________________________________________________________________\n",
      "embedding_layer (Embedding)     (None, 100, 128)     746496      input_layer[0][0]                \n",
      "__________________________________________________________________________________________________\n",
      "zero_padding1d_1 (ZeroPadding1D (None, 104, 128)     0           embedding_layer[0][0]            \n",
      "__________________________________________________________________________________________________\n",
      "conv1d_1 (Conv1D)               (None, 100, 32)      20512       zero_padding1d_1[0][0]           \n",
      "__________________________________________________________________________________________________\n",
      "bidirectional_1 (Bidirectional) (None, 100, 256)     263168      embedding_layer[0][0]            \n",
      "__________________________________________________________________________________________________\n",
      "dropout_2 (Dropout)             (None, 100, 32)      0           conv1d_1[0][0]                   \n",
      "__________________________________________________________________________________________________\n",
      "dropout_1 (Dropout)             (None, 100, 256)     0           bidirectional_1[0][0]            \n",
      "__________________________________________________________________________________________________\n",
      "time_distributed_1 (TimeDistrib (None, 100, 32)      1056        dropout_2[0][0]                  \n",
      "__________________________________________________________________________________________________\n",
      "concatenate_1 (Concatenate)     (None, 100, 288)     0           dropout_1[0][0]                  \n",
      "                                                                 time_distributed_1[0][0]         \n",
      "__________________________________________________________________________________________________\n",
      "time_distributed_2 (TimeDistrib (None, 100, 3)       867         concatenate_1[0][0]              \n",
      "__________________________________________________________________________________________________\n",
      "dropout_3 (Dropout)             (None, 100, 3)       0           time_distributed_2[0][0]         \n",
      "__________________________________________________________________________________________________\n",
      "crf_1 (CRF)                     (None, 100, 3)       27          dropout_3[0][0]                  \n",
      "==================================================================================================\n",
      "Total params: 1,032,126\n",
      "Trainable params: 1,032,126\n",
      "Non-trainable params: 0\n",
      "__________________________________________________________________________________________________\n"
     ]
    }
   ],
   "source": [
    "ner = NERModel(maxlen = 100, word_dict_size = len(char2id), pos_dict_size = 57, word_vec_size = 128, class_label_count = len(chunk2id))\n",
    "# ner.train2(train_data, train_label )\n"
   ]
  },
  {
   "cell_type": "code",
   "execution_count": 10,
   "metadata": {},
   "outputs": [
    {
     "name": "stderr",
     "output_type": "stream",
     "text": [
      "W0830 18:51:08.854342 4553582016 deprecation_wrapper.py:119] From /Users/zhaoliang/anaconda3/lib/python3.6/site-packages/keras/backend/tensorflow_backend.py:174: The name tf.get_default_session is deprecated. Please use tf.compat.v1.get_default_session instead.\n",
      "\n"
     ]
    }
   ],
   "source": [
    "ner_result = ner.predict2(test_data, id2chunk)"
   ]
  },
  {
   "cell_type": "code",
   "execution_count": 11,
   "metadata": {},
   "outputs": [],
   "source": [
    "import pandas as pd\n",
    "test_table = pd.read_csv(test_path)"
   ]
  },
  {
   "cell_type": "code",
   "execution_count": 23,
   "metadata": {},
   "outputs": [
    {
     "data": {
      "text/html": [
       "<div>\n",
       "<style scoped>\n",
       "    .dataframe tbody tr th:only-of-type {\n",
       "        vertical-align: middle;\n",
       "    }\n",
       "\n",
       "    .dataframe tbody tr th {\n",
       "        vertical-align: top;\n",
       "    }\n",
       "\n",
       "    .dataframe thead th {\n",
       "        text-align: right;\n",
       "    }\n",
       "</style>\n",
       "<table border=\"1\" class=\"dataframe\">\n",
       "  <thead>\n",
       "    <tr style=\"text-align: right;\">\n",
       "      <th></th>\n",
       "      <th>id</th>\n",
       "      <th>title</th>\n",
       "      <th>text</th>\n",
       "    </tr>\n",
       "  </thead>\n",
       "  <tbody>\n",
       "    <tr>\n",
       "      <th>4993</th>\n",
       "      <td>b48976d6</td>\n",
       "      <td></td>\n",
       "      <td>培育发展农科小额贷款公司、农科农业保险公司、农科融资租赁公司等新型农村金融主体，创新担保模式</td>\n",
       "    </tr>\n",
       "    <tr>\n",
       "      <th>4994</th>\n",
       "      <td>c38e4640</td>\n",
       "      <td></td>\n",
       "      <td>关于外汇交易平台，目前市场面临ZC的高压，一些平台不是退出市场就是跑路，就连人气平台艾拓思也...</td>\n",
       "    </tr>\n",
       "    <tr>\n",
       "      <th>4995</th>\n",
       "      <td>53315bd1</td>\n",
       "      <td>Finci芬吉不正规！老师带着我做却血本无归怎么办？</td>\n",
       "      <td>铭笙法援团队V：ms18571483376承诺不追回不收费　　前言：Finci芬吉是否正...</td>\n",
       "    </tr>\n",
       "    <tr>\n",
       "      <th>4996</th>\n",
       "      <td>24366b47</td>\n",
       "      <td></td>\n",
       "      <td>爱汇宝APP，一个骗子公司，骗了我十几万，现在跑路了，大家不</td>\n",
       "    </tr>\n",
       "    <tr>\n",
       "      <th>4997</th>\n",
       "      <td>3b453440</td>\n",
       "      <td>机会！大荔首批赶街团长开始招募了，月入过万不是梦，会微信就能免费申请</td>\n",
       "      <td>{IMG:1}北上广生活节奏那么紧张，为什么还不赶紧逃离？咱小县城生活这么悠闲悠哉，为什么还...</td>\n",
       "    </tr>\n",
       "  </tbody>\n",
       "</table>\n",
       "</div>"
      ],
      "text/plain": [
       "            id                               title  \\\n",
       "4993  b48976d6                                       \n",
       "4994  c38e4640                                       \n",
       "4995  53315bd1          Finci芬吉不正规！老师带着我做却血本无归怎么办？   \n",
       "4996  24366b47                                       \n",
       "4997  3b453440  机会！大荔首批赶街团长开始招募了，月入过万不是梦，会微信就能免费申请   \n",
       "\n",
       "                                                   text  \n",
       "4993     培育发展农科小额贷款公司、农科农业保险公司、农科融资租赁公司等新型农村金融主体，创新担保模式  \n",
       "4994  关于外汇交易平台，目前市场面临ZC的高压，一些平台不是退出市场就是跑路，就连人气平台艾拓思也...  \n",
       "4995  　　铭笙法援团队V：ms18571483376承诺不追回不收费　　前言：Finci芬吉是否正...  \n",
       "4996                     爱汇宝APP，一个骗子公司，骗了我十几万，现在跑路了，大家不  \n",
       "4997  {IMG:1}北上广生活节奏那么紧张，为什么还不赶紧逃离？咱小县城生活这么悠闲悠哉，为什么还...  "
      ]
     },
     "execution_count": 23,
     "metadata": {},
     "output_type": "execute_result"
    }
   ],
   "source": [
    "test_table.tail()"
   ]
  },
  {
   "cell_type": "code",
   "execution_count": 13,
   "metadata": {},
   "outputs": [],
   "source": [
    "test_table = test_table.fillna('')\n",
    "data = []\n",
    "for _, row in test_table.iterrows():\n",
    "    content = row['title']+row['text']\n",
    "    data.append(content)"
   ]
  },
  {
   "cell_type": "code",
   "execution_count": 14,
   "metadata": {},
   "outputs": [],
   "source": [
    "def get_entity_list(words_list, chunk_list):\n",
    "    candidate_a = []\n",
    "    a_list = []\n",
    "    for i in range(len(words_list)):\n",
    "        if chunk_list[i] == 'B':\n",
    "            if len(candidate_a) == 0:\n",
    "                candidate_a.append(words_list[i])  \n",
    "            elif len(candidate_a) == 1:\n",
    "                candidate_a = []\n",
    "                candidate_a.append(words_list[i]) \n",
    "            else:\n",
    "                a_list.append(''.join(candidate_a))\n",
    "                candidate_a = []\n",
    "                candidate_a.append(words_list[i]) \n",
    "        elif chunk_list[i] == 'I' and len(candidate_a)!=0 and chunk_list[i-len(candidate_a)] == 'B':\n",
    "            candidate_a.append(words_list[i])\n",
    "          \n",
    "        else:\n",
    "            if len(candidate_a) != 0:\n",
    "                a_list.append(''.join(candidate_a))    \n",
    "            candidate_a = []\n",
    "    if len(candidate_a) != 0:\n",
    "        a_list.append(''.join(candidate_a))\n",
    "    return a_list"
   ]
  },
  {
   "cell_type": "code",
   "execution_count": 15,
   "metadata": {},
   "outputs": [],
   "source": [
    "result = []\n",
    "for i in range(len(test_data)):\n",
    "    data = test_data[i]\n",
    "    data = [process_data.id2char.get(w) for w in data]\n",
    "    data = ''.join(data)\n",
    "    a = get_entity_list(data, ner_result[i])\n",
    "    result.append(';'.join(a))"
   ]
  },
  {
   "cell_type": "code",
   "execution_count": 16,
   "metadata": {},
   "outputs": [],
   "source": [
    "ret = pd.DataFrame()\n",
    "ret['id'] = process_data.test_id\n",
    "ret['unknownEntities'] = result"
   ]
  },
  {
   "cell_type": "code",
   "execution_count": 43,
   "metadata": {},
   "outputs": [
    {
     "data": {
      "text/html": [
       "<div>\n",
       "<style scoped>\n",
       "    .dataframe tbody tr th:only-of-type {\n",
       "        vertical-align: middle;\n",
       "    }\n",
       "\n",
       "    .dataframe tbody tr th {\n",
       "        vertical-align: top;\n",
       "    }\n",
       "\n",
       "    .dataframe thead th {\n",
       "        text-align: right;\n",
       "    }\n",
       "</style>\n",
       "<table border=\"1\" class=\"dataframe\">\n",
       "  <thead>\n",
       "    <tr style=\"text-align: right;\">\n",
       "      <th></th>\n",
       "      <th>id</th>\n",
       "      <th>unknownEntities</th>\n",
       "    </tr>\n",
       "  </thead>\n",
       "  <tbody>\n",
       "    <tr>\n",
       "      <th>0</th>\n",
       "      <td>83dcefb7</td>\n",
       "      <td>时空周转</td>\n",
       "    </tr>\n",
       "    <tr>\n",
       "      <th>1</th>\n",
       "      <td>83dcefb7</td>\n",
       "      <td>时空周转</td>\n",
       "    </tr>\n",
       "    <tr>\n",
       "      <th>2</th>\n",
       "      <td>83dcefb7</td>\n",
       "      <td>时空周转</td>\n",
       "    </tr>\n",
       "    <tr>\n",
       "      <th>3</th>\n",
       "      <td>83dcefb7</td>\n",
       "      <td>时空周转</td>\n",
       "    </tr>\n",
       "    <tr>\n",
       "      <th>4</th>\n",
       "      <td>83dcefb7</td>\n",
       "      <td></td>\n",
       "    </tr>\n",
       "  </tbody>\n",
       "</table>\n",
       "</div>"
      ],
      "text/plain": [
       "         id unknownEntities\n",
       "0  83dcefb7            时空周转\n",
       "1  83dcefb7            时空周转\n",
       "2  83dcefb7            时空周转\n",
       "3  83dcefb7            时空周转\n",
       "4  83dcefb7                "
      ]
     },
     "execution_count": 43,
     "metadata": {},
     "output_type": "execute_result"
    }
   ],
   "source": [
    "ret.head()"
   ]
  },
  {
   "cell_type": "code",
   "execution_count": 44,
   "metadata": {},
   "outputs": [],
   "source": [
    "new_id = []\n",
    "new_result = []\n",
    "groups = ret.groupby('id')\n",
    "for _, g in groups:\n",
    "    new_id.append(_)\n",
    "    r = list(g['unknownEntities'])\n",
    "    temp =set()\n",
    "    for item in r:\n",
    "        if item.strip() != '':\n",
    "            hadflag = False\n",
    "            for had in temp:\n",
    "                if had in item or item in had:\n",
    "                    hadflag = True\n",
    "            if not hadflag:\n",
    "                temp.add(item)\n",
    "    \n",
    "    new_result.append(';'.join(list(set(temp))))      \n",
    "    "
   ]
  },
  {
   "cell_type": "code",
   "execution_count": 45,
   "metadata": {},
   "outputs": [],
   "source": [
    "nret = pd.DataFrame()\n",
    "nret['id'] = new_id\n",
    "nret['unknownEntities'] = new_result"
   ]
  },
  {
   "cell_type": "code",
   "execution_count": 37,
   "metadata": {},
   "outputs": [],
   "source": [
    "nret['unknownEntities'] = nret['unknownEntities'].apply(lambda x: ';'.join(set(str(x).split(';'))))"
   ]
  },
  {
   "cell_type": "code",
   "execution_count": 38,
   "metadata": {},
   "outputs": [],
   "source": [
    "unknownEntities = list(nret['unknownEntities'])\n",
    "new = []\n",
    "for item in unknownEntities:\n",
    "    \n",
    "    item = item.split(';')\n",
    "    item = list(set(item))\n",
    "    item = [i for i in item if len(i.strip())>1]\n",
    "    new.append(';'.join(item))\n",
    "    \n",
    "nret['unknownEntities'] = new"
   ]
  },
  {
   "cell_type": "code",
   "execution_count": 40,
   "metadata": {},
   "outputs": [
    {
     "data": {
      "text/html": [
       "<div>\n",
       "<style scoped>\n",
       "    .dataframe tbody tr th:only-of-type {\n",
       "        vertical-align: middle;\n",
       "    }\n",
       "\n",
       "    .dataframe tbody tr th {\n",
       "        vertical-align: top;\n",
       "    }\n",
       "\n",
       "    .dataframe thead th {\n",
       "        text-align: right;\n",
       "    }\n",
       "</style>\n",
       "<table border=\"1\" class=\"dataframe\">\n",
       "  <thead>\n",
       "    <tr style=\"text-align: right;\">\n",
       "      <th></th>\n",
       "      <th>id</th>\n",
       "      <th>unknownEntities</th>\n",
       "    </tr>\n",
       "  </thead>\n",
       "  <tbody>\n",
       "    <tr>\n",
       "      <th>0</th>\n",
       "      <td>00081566</td>\n",
       "      <td>中海选;熊猫;火币;比特币</td>\n",
       "    </tr>\n",
       "    <tr>\n",
       "      <th>1</th>\n",
       "      <td>000b8b75</td>\n",
       "      <td>微信;宝贝;嗨团问;嗨团产;嗨团赚;宝爸;嗨团创;百分百;嗨团分;嗨团有;嗨团平;嗨团总;嗨...</td>\n",
       "    </tr>\n",
       "    <tr>\n",
       "      <th>2</th>\n",
       "      <td>0012d20a</td>\n",
       "      <td>云纪;杭州;首AI;思路;人工智</td>\n",
       "    </tr>\n",
       "    <tr>\n",
       "      <th>3</th>\n",
       "      <td>001ac252</td>\n",
       "      <td>淘宝天</td>\n",
       "    </tr>\n",
       "    <tr>\n",
       "      <th>4</th>\n",
       "      <td>0033ebe3</td>\n",
       "      <td>琼）;弘高融;悦生活;金融;惠民生;车享贷</td>\n",
       "    </tr>\n",
       "  </tbody>\n",
       "</table>\n",
       "</div>"
      ],
      "text/plain": [
       "         id                                    unknownEntities\n",
       "0  00081566                                      中海选;熊猫;火币;比特币\n",
       "1  000b8b75  微信;宝贝;嗨团问;嗨团产;嗨团赚;宝爸;嗨团创;百分百;嗨团分;嗨团有;嗨团平;嗨团总;嗨...\n",
       "2  0012d20a                                   云纪;杭州;首AI;思路;人工智\n",
       "3  001ac252                                                淘宝天\n",
       "4  0033ebe3                              琼）;弘高融;悦生活;金融;惠民生;车享贷"
      ]
     },
     "execution_count": 40,
     "metadata": {},
     "output_type": "execute_result"
    }
   ],
   "source": [
    "nret.head()"
   ]
  },
  {
   "cell_type": "code",
   "execution_count": 46,
   "metadata": {},
   "outputs": [],
   "source": [
    "nret.to_csv('../result/2019-08-40.csv', index=False)"
   ]
  },
  {
   "cell_type": "code",
   "execution_count": null,
   "metadata": {},
   "outputs": [],
   "source": []
  }
 ],
 "metadata": {
  "kernelspec": {
   "display_name": "Python 3",
   "language": "python",
   "name": "python3"
  },
  "language_info": {
   "codemirror_mode": {
    "name": "ipython",
    "version": 3
   },
   "file_extension": ".py",
   "mimetype": "text/x-python",
   "name": "python",
   "nbconvert_exporter": "python",
   "pygments_lexer": "ipython3",
   "version": "3.6.5"
  }
 },
 "nbformat": 4,
 "nbformat_minor": 2
}
